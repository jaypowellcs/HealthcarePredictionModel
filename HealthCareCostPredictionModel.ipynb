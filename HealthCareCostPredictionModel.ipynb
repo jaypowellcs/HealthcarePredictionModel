{
 "cells": [
  {
   "cell_type": "markdown",
   "id": "33769c82-d5fc-4663-a039-9ce54a241268",
   "metadata": {},
   "source": [
    "# Healthcare Cost Prediction Model for DFW Insurance"
   ]
  },
  {
   "cell_type": "markdown",
   "id": "7ecc28cf-b2ff-441c-95ad-bd4319a290f3",
   "metadata": {},
   "source": [
    "### > Please follow the lines by pressing shift + enter to run each section of code. Start at the top and work your way down"
   ]
  },
  {
   "cell_type": "markdown",
   "id": "fe16d868-a0ed-4157-920a-63cdc20f06e4",
   "metadata": {},
   "source": [
    "### 1. Import all necessary libraries"
   ]
  },
  {
   "cell_type": "code",
   "execution_count": 79,
   "id": "4380411d-69a0-4457-9ff6-71c7dee70537",
   "metadata": {},
   "outputs": [],
   "source": [
    "import pandas as pd\n",
    "import numpy as np\n",
    "from sklearn.model_selection import train_test_split\n",
    "from sklearn.ensemble import RandomForestRegressor\n",
    "from sklearn.preprocessing import OneHotEncoder\n",
    "from sklearn.compose import ColumnTransformer\n"
   ]
  },
  {
   "cell_type": "markdown",
   "id": "cbf568f3-0402-4478-954e-f7e3b1479aca",
   "metadata": {},
   "source": [
    "#### 2. Our data is in a file named insurance.csv, please make sure that it is downloaded and in the same folder as this file. After finishing this step, you should see the first five rows of data."
   ]
  },
  {
   "cell_type": "code",
   "execution_count": 96,
   "id": "f93cbacb-da44-4b16-ba0d-f9c6d5b1cb6a",
   "metadata": {},
   "outputs": [
    {
     "data": {
      "text/html": [
       "<div>\n",
       "<style scoped>\n",
       "    .dataframe tbody tr th:only-of-type {\n",
       "        vertical-align: middle;\n",
       "    }\n",
       "\n",
       "    .dataframe tbody tr th {\n",
       "        vertical-align: top;\n",
       "    }\n",
       "\n",
       "    .dataframe thead th {\n",
       "        text-align: right;\n",
       "    }\n",
       "</style>\n",
       "<table border=\"1\" class=\"dataframe\">\n",
       "  <thead>\n",
       "    <tr style=\"text-align: right;\">\n",
       "      <th></th>\n",
       "      <th>Age</th>\n",
       "      <th>Sex</th>\n",
       "      <th>BMI</th>\n",
       "      <th>Children</th>\n",
       "      <th>Smoker</th>\n",
       "      <th>Region(US)</th>\n",
       "      <th>Healthcare Costs</th>\n",
       "    </tr>\n",
       "  </thead>\n",
       "  <tbody>\n",
       "    <tr>\n",
       "      <th>0</th>\n",
       "      <td>19</td>\n",
       "      <td>female</td>\n",
       "      <td>27.900</td>\n",
       "      <td>0</td>\n",
       "      <td>yes</td>\n",
       "      <td>southwest</td>\n",
       "      <td>16884.92400</td>\n",
       "    </tr>\n",
       "    <tr>\n",
       "      <th>1</th>\n",
       "      <td>18</td>\n",
       "      <td>male</td>\n",
       "      <td>33.770</td>\n",
       "      <td>1</td>\n",
       "      <td>no</td>\n",
       "      <td>southeast</td>\n",
       "      <td>1725.55230</td>\n",
       "    </tr>\n",
       "    <tr>\n",
       "      <th>2</th>\n",
       "      <td>28</td>\n",
       "      <td>male</td>\n",
       "      <td>33.000</td>\n",
       "      <td>3</td>\n",
       "      <td>no</td>\n",
       "      <td>southeast</td>\n",
       "      <td>4449.46200</td>\n",
       "    </tr>\n",
       "    <tr>\n",
       "      <th>3</th>\n",
       "      <td>33</td>\n",
       "      <td>male</td>\n",
       "      <td>22.705</td>\n",
       "      <td>0</td>\n",
       "      <td>no</td>\n",
       "      <td>northwest</td>\n",
       "      <td>21984.47061</td>\n",
       "    </tr>\n",
       "    <tr>\n",
       "      <th>4</th>\n",
       "      <td>32</td>\n",
       "      <td>male</td>\n",
       "      <td>28.880</td>\n",
       "      <td>0</td>\n",
       "      <td>no</td>\n",
       "      <td>northwest</td>\n",
       "      <td>3866.85520</td>\n",
       "    </tr>\n",
       "  </tbody>\n",
       "</table>\n",
       "</div>"
      ],
      "text/plain": [
       "   Age     Sex     BMI  Children Smoker Region(US)  Healthcare Costs\n",
       "0   19  female  27.900         0    yes  southwest       16884.92400\n",
       "1   18    male  33.770         1     no  southeast        1725.55230\n",
       "2   28    male  33.000         3     no  southeast        4449.46200\n",
       "3   33    male  22.705         0     no  northwest       21984.47061\n",
       "4   32    male  28.880         0     no  northwest        3866.85520"
      ]
     },
     "execution_count": 96,
     "metadata": {},
     "output_type": "execute_result"
    }
   ],
   "source": [
    "names = ['Age','Sex','BMI', 'Children', 'Smoker', 'Region(US)', 'Healthcare Costs']\n",
    "insurance_data = pd.read_csv('insurance.csv', names = names)\n",
    "insurance_data.head()"
   ]
  },
  {
   "cell_type": "markdown",
   "id": "15466897-a17e-4d90-86f9-a52f389a396e",
   "metadata": {},
   "source": [
    "#### 3. Create the data and split into X/y for testing and training "
   ]
  },
  {
   "cell_type": "code",
   "execution_count": 99,
   "id": "76fc807d-8ea1-4989-8ed9-5c16cf02a091",
   "metadata": {},
   "outputs": [],
   "source": [
    "X = insurance_data.drop(\"Healthcare Costs\", axis=1)\n",
    "y = insurance_data[\"Healthcare Costs\"]\n"
   ]
  },
  {
   "cell_type": "markdown",
   "id": "8a4e32b6-46cd-4cb1-bdc8-23a61a0f1ab3",
   "metadata": {},
   "source": [
    "#### 4. We will need to change our categories from categorical to numerical since our model will not be able to understand it. We will be using one-hot encoding to change these categories into numebers."
   ]
  },
  {
   "cell_type": "code",
   "execution_count": 102,
   "id": "5feeea6b-48b9-4306-82da-1163765e7c57",
   "metadata": {},
   "outputs": [],
   "source": [
    "person_attr = [\"Sex\", \"Children\", \"Smoker\", \"Region(US)\"]\n",
    "one_hot = OneHotEncoder()\n",
    "transformer = ColumnTransformer([(\"one_hot\", one_hot, person_attr)], remainder=\"passthrough\")"
   ]
  },
  {
   "cell_type": "markdown",
   "id": "7c1abee9-aa0d-4f1c-bc51-e6a41fbc44f7",
   "metadata": {},
   "source": [
    "#### 5. Now we will need to split the data into training and test sets, we will be using a test set of 20%. We will also create our random seed in this step"
   ]
  },
  {
   "cell_type": "code",
   "execution_count": 105,
   "id": "f8ac13d4-ef4e-4567-8a14-fb5089857402",
   "metadata": {},
   "outputs": [],
   "source": [
    "np.random.seed(42)\n",
    "X_train, X_test, y_train, y_test = train_test_split(X,\n",
    "                                                    y, \n",
    "                                                    test_size = 0.2)\n"
   ]
  },
  {
   "cell_type": "markdown",
   "id": "18cca4f9-2237-4ac7-b81e-be2254413215",
   "metadata": {},
   "source": [
    "#### 6. Now we transform our data from categorical to numerical using the transformer that we created in step 4"
   ]
  },
  {
   "cell_type": "code",
   "execution_count": 108,
   "id": "52fa1c9f-2ed1-4e01-99a4-e936be1372cd",
   "metadata": {},
   "outputs": [],
   "source": [
    "X_train_transformed = transformer.fit_transform(X_train)\n",
    "X_test_transformed = transformer.transform(X_test)"
   ]
  },
  {
   "cell_type": "markdown",
   "id": "1afbf8c9-85e9-4e95-9bcd-38507077883c",
   "metadata": {},
   "source": [
    "#### 7. Fit and score the model"
   ]
  },
  {
   "cell_type": "code",
   "execution_count": 123,
   "id": "d589d17a-d3b0-42a1-af38-b5768661678f",
   "metadata": {},
   "outputs": [
    {
     "name": "stdout",
     "output_type": "stream",
     "text": [
      "Model R^2 Score: 0.86\n"
     ]
    }
   ],
   "source": [
    "model = RandomForestRegressor(random_state=42)\n",
    "model.fit(X_train_transformed, y_train)\n",
    "score = model.score(X_test_transformed, y_test)\n",
    "print(f\"Model R^2 Score: {score:.2}\")"
   ]
  },
  {
   "cell_type": "markdown",
   "id": "a49deff2-8c3f-4d33-8c0b-43d147cfc844",
   "metadata": {},
   "source": [
    "## Prediction for individual users"
   ]
  },
  {
   "cell_type": "markdown",
   "id": "2e9eead3-68c5-4467-9942-e9b7388417f9",
   "metadata": {},
   "source": [
    "#### - User will need to input data into the below structure. \n",
    "\n",
    "    - Only change data in the brackets, and press shift + enter\n",
    "\n",
    "    - 'Sex': ['male'], \n",
    "    - 'Children': [1], \n",
    "    - 'Smoker': ['no'], \n",
    "    - 'Region(US)': ['northeast'], \n",
    "    - 'Age': [38],\n",
    "    - 'BMI': [37.05]\n",
    "\n",
    "An example has done below for you to view "
   ]
  },
  {
   "cell_type": "markdown",
   "id": "78cfe706-ecff-4a33-b5ac-7ebe6f99718f",
   "metadata": {},
   "source": [
    "#### 1. See below example "
   ]
  },
  {
   "cell_type": "code",
   "execution_count": 146,
   "id": "18c1f372-abef-4245-8e10-6fc39a3e3c18",
   "metadata": {},
   "outputs": [
    {
     "name": "stdout",
     "output_type": "stream",
     "text": [
      "Predicted Healthcare Costs: 7610.98\n"
     ]
    }
   ],
   "source": [
    "userInput = pd.DataFrame({\n",
    "    'Sex': ['male'], \n",
    "    'Children': [1], \n",
    "    'Smoker': ['no'], \n",
    "    'Region(US)': ['northeast'], \n",
    "    'Age': [38],\n",
    "    'BMI': [37.05]\n",
    "})\n",
    "\n",
    "# Transform the new user input\n",
    "newUserInput_transformed = transformer.transform(userInput)\n",
    "\n",
    "# Predict using the trained model\n",
    "prediction = model.predict(newUserInput_transformed)\n",
    "print(f\"Predicted Healthcare Costs: {prediction[0]:.2f}\")"
   ]
  },
  {
   "cell_type": "markdown",
   "id": "3864b05c-8d60-4e07-93d9-5165417af85f",
   "metadata": {},
   "source": [
    "#### 2. User sample format, just need to re-enter the data and press shift + enter to rerun"
   ]
  },
  {
   "cell_type": "code",
   "execution_count": 157,
   "id": "fdd73fc8-cafd-4ccb-bb22-7ce6aa2c7896",
   "metadata": {},
   "outputs": [
    {
     "name": "stdout",
     "output_type": "stream",
     "text": [
      "Predicted Healthcare Costs: 17106.20\n"
     ]
    }
   ],
   "source": [
    "userInput = pd.DataFrame({\n",
    "    'Sex': ['female'], \n",
    "    'Children': [0], \n",
    "    'Smoker': ['yes'], \n",
    "    'Region(US)': ['southwest'], \n",
    "    'Age': [19],\n",
    "    'BMI': [27.900]\n",
    "})\n",
    "\n",
    "# Transform the new user input\n",
    "newUserInput_transformed = transformer.transform(userInput)\n",
    "\n",
    "# Predict using the trained model\n",
    "prediction = model.predict(newUserInput_transformed)\n",
    "print(f\"Predicted Healthcare Costs: {prediction[0]:.2f}\")"
   ]
  },
  {
   "cell_type": "code",
   "execution_count": null,
   "id": "d7a48e7e-13c9-4af3-8810-eabc6d59c9be",
   "metadata": {},
   "outputs": [],
   "source": []
  }
 ],
 "metadata": {
  "kernelspec": {
   "display_name": "Python 3 (ipykernel)",
   "language": "python",
   "name": "python3"
  },
  "language_info": {
   "codemirror_mode": {
    "name": "ipython",
    "version": 3
   },
   "file_extension": ".py",
   "mimetype": "text/x-python",
   "name": "python",
   "nbconvert_exporter": "python",
   "pygments_lexer": "ipython3",
   "version": "3.11.7"
  }
 },
 "nbformat": 4,
 "nbformat_minor": 5
}
